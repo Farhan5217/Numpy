{
 "cells": [
  {
   "cell_type": "code",
   "execution_count": 1,
   "id": "85367830",
   "metadata": {},
   "outputs": [],
   "source": [
    "import numpy as np"
   ]
  },
  {
   "cell_type": "code",
   "execution_count": 2,
   "id": "838def94",
   "metadata": {},
   "outputs": [],
   "source": [
    "a=([11,2,-4,-5,31,0,5,-2,9,])\n",
    "b=([-4,-3,-2,-1,1,1,2,3,4,])"
   ]
  },
  {
   "cell_type": "markdown",
   "id": "13084b6d",
   "metadata": {},
   "source": [
    "1) ADD function"
   ]
  },
  {
   "cell_type": "code",
   "execution_count": 3,
   "id": "da001a22",
   "metadata": {},
   "outputs": [
    {
     "data": {
      "text/plain": [
       "array([ 7, -1, -6, -6, 32,  1,  7,  1, 13])"
      ]
     },
     "execution_count": 3,
     "metadata": {},
     "output_type": "execute_result"
    }
   ],
   "source": [
    "np.add(a,b)"
   ]
  },
  {
   "cell_type": "markdown",
   "id": "62156c21",
   "metadata": {},
   "source": [
    "2)Subtract function"
   ]
  },
  {
   "cell_type": "code",
   "execution_count": 4,
   "id": "c6b264e2",
   "metadata": {},
   "outputs": [
    {
     "data": {
      "text/plain": [
       "array([15,  5, -2, -4, 30, -1,  3, -5,  5])"
      ]
     },
     "execution_count": 4,
     "metadata": {},
     "output_type": "execute_result"
    }
   ],
   "source": [
    "np.subtract(a,b)"
   ]
  },
  {
   "cell_type": "markdown",
   "id": "6d5ba76d",
   "metadata": {},
   "source": [
    "3) Multiply function"
   ]
  },
  {
   "cell_type": "code",
   "execution_count": 5,
   "id": "a389c92d",
   "metadata": {},
   "outputs": [
    {
     "data": {
      "text/plain": [
       "array([-44,  -6,   8,   5,  31,   0,  10,  -6,  36])"
      ]
     },
     "execution_count": 5,
     "metadata": {},
     "output_type": "execute_result"
    }
   ],
   "source": [
    "np.multiply(a,b)"
   ]
  },
  {
   "cell_type": "markdown",
   "id": "492fa66d",
   "metadata": {},
   "source": [
    "4) Matrix product"
   ]
  },
  {
   "cell_type": "code",
   "execution_count": 6,
   "id": "e721c09d",
   "metadata": {},
   "outputs": [
    {
     "data": {
      "text/plain": [
       "34"
      ]
     },
     "execution_count": 6,
     "metadata": {},
     "output_type": "execute_result"
    }
   ],
   "source": [
    "np.matmul(a,b)"
   ]
  },
  {
   "cell_type": "markdown",
   "id": "44a32c36",
   "metadata": {},
   "source": [
    "5) Divide function"
   ]
  },
  {
   "cell_type": "code",
   "execution_count": 7,
   "id": "4dbed68b",
   "metadata": {},
   "outputs": [
    {
     "data": {
      "text/plain": [
       "array([-2.75      , -0.66666667,  2.        ,  5.        , 31.        ,\n",
       "        0.        ,  2.5       , -0.66666667,  2.25      ])"
      ]
     },
     "execution_count": 7,
     "metadata": {},
     "output_type": "execute_result"
    }
   ],
   "source": [
    "np.divide(a,b)"
   ]
  },
  {
   "cell_type": "markdown",
   "id": "af1af74a",
   "metadata": {},
   "source": [
    "6) log function"
   ]
  },
  {
   "cell_type": "code",
   "execution_count": 8,
   "id": "1a881171",
   "metadata": {},
   "outputs": [
    {
     "name": "stderr",
     "output_type": "stream",
     "text": [
      "C:\\Users\\usman\\AppData\\Local\\Temp\\ipykernel_6316\\176755284.py:1: RuntimeWarning: divide by zero encountered in log\n",
      "  np.log(a)\n",
      "C:\\Users\\usman\\AppData\\Local\\Temp\\ipykernel_6316\\176755284.py:1: RuntimeWarning: invalid value encountered in log\n",
      "  np.log(a)\n"
     ]
    },
    {
     "data": {
      "text/plain": [
       "array([2.39789527, 0.69314718,        nan,        nan, 3.4339872 ,\n",
       "             -inf, 1.60943791,        nan, 2.19722458])"
      ]
     },
     "execution_count": 8,
     "metadata": {},
     "output_type": "execute_result"
    }
   ],
   "source": [
    "np.log(a)"
   ]
  },
  {
   "cell_type": "markdown",
   "id": "50241412",
   "metadata": {},
   "source": [
    "7) Exponent function"
   ]
  },
  {
   "cell_type": "code",
   "execution_count": 9,
   "id": "c2ff24fc",
   "metadata": {},
   "outputs": [
    {
     "data": {
      "text/plain": [
       "array([5.98741417e+04, 7.38905610e+00, 1.83156389e-02, 6.73794700e-03,\n",
       "       2.90488497e+13, 1.00000000e+00, 1.48413159e+02, 1.35335283e-01,\n",
       "       8.10308393e+03])"
      ]
     },
     "execution_count": 9,
     "metadata": {},
     "output_type": "execute_result"
    }
   ],
   "source": [
    "np.exp(a)"
   ]
  },
  {
   "cell_type": "markdown",
   "id": "cd9197b9",
   "metadata": {},
   "source": [
    "8) Trignometric functions"
   ]
  },
  {
   "cell_type": "code",
   "execution_count": 10,
   "id": "f9c35992",
   "metadata": {},
   "outputs": [
    {
     "data": {
      "text/plain": [
       "array([-0.99999021,  0.90929743,  0.7568025 ,  0.95892427, -0.40403765,\n",
       "        0.        , -0.95892427, -0.90929743,  0.41211849])"
      ]
     },
     "execution_count": 10,
     "metadata": {},
     "output_type": "execute_result"
    }
   ],
   "source": [
    "np.sin(a)"
   ]
  },
  {
   "cell_type": "code",
   "execution_count": 11,
   "id": "7942c2e8",
   "metadata": {},
   "outputs": [
    {
     "data": {
      "text/plain": [
       "array([-0.65364362, -0.9899925 , -0.41614684,  0.54030231,  0.54030231,\n",
       "        0.54030231, -0.41614684, -0.9899925 , -0.65364362])"
      ]
     },
     "execution_count": 11,
     "metadata": {},
     "output_type": "execute_result"
    }
   ],
   "source": [
    "np.cos(b)"
   ]
  },
  {
   "cell_type": "markdown",
   "id": "5ad8854e",
   "metadata": {},
   "source": [
    "9) Floor divide"
   ]
  },
  {
   "cell_type": "code",
   "execution_count": 12,
   "id": "cfb7da9c",
   "metadata": {},
   "outputs": [
    {
     "data": {
      "text/plain": [
       "array([-3, -1,  2,  5, 31,  0,  2, -1,  2], dtype=int32)"
      ]
     },
     "execution_count": 12,
     "metadata": {},
     "output_type": "execute_result"
    }
   ],
   "source": [
    "np.floor_divide(a,b)"
   ]
  },
  {
   "cell_type": "markdown",
   "id": "3fbe7335",
   "metadata": {},
   "source": [
    "10) Positive/Negative "
   ]
  },
  {
   "cell_type": "code",
   "execution_count": 13,
   "id": "747fe315",
   "metadata": {},
   "outputs": [
    {
     "data": {
      "text/plain": [
       "array([[-11,  -2,   4,   5, -31,   0,  -5,   2,  -9],\n",
       "       [  4,   3,   2,   1,  -1,  -1,  -2,  -3,  -4]])"
      ]
     },
     "execution_count": 13,
     "metadata": {},
     "output_type": "execute_result"
    }
   ],
   "source": [
    "np.negative((a,b))"
   ]
  },
  {
   "cell_type": "code",
   "execution_count": 14,
   "id": "0c91ecdc",
   "metadata": {},
   "outputs": [
    {
     "data": {
      "text/plain": [
       "array([[11,  2, -4, -5, 31,  0,  5, -2,  9],\n",
       "       [-4, -3, -2, -1,  1,  1,  2,  3,  4]])"
      ]
     },
     "execution_count": 14,
     "metadata": {},
     "output_type": "execute_result"
    }
   ],
   "source": [
    "np.positive((a,b))"
   ]
  },
  {
   "cell_type": "markdown",
   "id": "c1aad97e",
   "metadata": {},
   "source": [
    "11)power function"
   ]
  },
  {
   "cell_type": "code",
   "execution_count": 15,
   "id": "6d296e84",
   "metadata": {},
   "outputs": [],
   "source": [
    "x=([2,6,5])\n",
    "y=([2,3,3])"
   ]
  },
  {
   "cell_type": "code",
   "execution_count": 16,
   "id": "fb338d71",
   "metadata": {},
   "outputs": [
    {
     "data": {
      "text/plain": [
       "array([  4, 216, 125], dtype=int32)"
      ]
     },
     "execution_count": 16,
     "metadata": {},
     "output_type": "execute_result"
    }
   ],
   "source": [
    "np.power(x,y)"
   ]
  },
  {
   "cell_type": "markdown",
   "id": "b465b7f4",
   "metadata": {},
   "source": [
    "12) Absolute function"
   ]
  },
  {
   "cell_type": "code",
   "execution_count": 17,
   "id": "12440e73",
   "metadata": {},
   "outputs": [
    {
     "name": "stdout",
     "output_type": "stream",
     "text": [
      "[4 3 2 1 1 1 2 3 4]\n"
     ]
    }
   ],
   "source": [
    "print(np.absolute(b))"
   ]
  },
  {
   "cell_type": "markdown",
   "id": "fbc37cdf",
   "metadata": {},
   "source": [
    "13) remainder function"
   ]
  },
  {
   "cell_type": "code",
   "execution_count": 18,
   "id": "c58a6caf",
   "metadata": {},
   "outputs": [
    {
     "data": {
      "text/plain": [
       "array([-1, -1,  0,  0,  0,  0,  1,  1,  1], dtype=int32)"
      ]
     },
     "execution_count": 18,
     "metadata": {},
     "output_type": "execute_result"
    }
   ],
   "source": [
    "np.remainder(a,b)"
   ]
  },
  {
   "cell_type": "markdown",
   "id": "6c0dc16b",
   "metadata": {},
   "source": [
    "14) divmod function"
   ]
  },
  {
   "cell_type": "code",
   "execution_count": 19,
   "id": "b546d6d8",
   "metadata": {},
   "outputs": [
    {
     "data": {
      "text/plain": [
       "(array([-3, -1,  2,  5, 31,  0,  2, -1,  2], dtype=int32),\n",
       " array([-1, -1,  0,  0,  0,  0,  1,  1,  1], dtype=int32))"
      ]
     },
     "execution_count": 19,
     "metadata": {},
     "output_type": "execute_result"
    }
   ],
   "source": [
    "np.divmod(a,b)"
   ]
  },
  {
   "cell_type": "markdown",
   "id": "39c18209",
   "metadata": {},
   "source": [
    "15) Square root"
   ]
  },
  {
   "cell_type": "code",
   "execution_count": 20,
   "id": "92327185",
   "metadata": {},
   "outputs": [
    {
     "data": {
      "text/plain": [
       "array([1.73205081, 2.44948974, 2.64575131, 1.41421356, 2.        ])"
      ]
     },
     "execution_count": 20,
     "metadata": {},
     "output_type": "execute_result"
    }
   ],
   "source": [
    "c=([3,6,7,2,4])\n",
    "np.sqrt(c)"
   ]
  },
  {
   "cell_type": "markdown",
   "id": "5862e1cb",
   "metadata": {},
   "source": [
    "16) greater and greater_equal"
   ]
  },
  {
   "cell_type": "code",
   "execution_count": 21,
   "id": "9fc07a0b",
   "metadata": {},
   "outputs": [],
   "source": [
    "j=([4,5,2,-5,-2])\n",
    "k=([3,2,-1,4,0])"
   ]
  },
  {
   "cell_type": "code",
   "execution_count": 22,
   "id": "8e683ae1",
   "metadata": {},
   "outputs": [
    {
     "data": {
      "text/plain": [
       "array([ True,  True,  True, False, False])"
      ]
     },
     "execution_count": 22,
     "metadata": {},
     "output_type": "execute_result"
    }
   ],
   "source": [
    "np.greater(j,k)"
   ]
  },
  {
   "cell_type": "code",
   "execution_count": 23,
   "id": "3e4bf453",
   "metadata": {},
   "outputs": [
    {
     "data": {
      "text/plain": [
       "array([ True,  True,  True, False, False])"
      ]
     },
     "execution_count": 23,
     "metadata": {},
     "output_type": "execute_result"
    }
   ],
   "source": [
    "np.greater_equal(j,k)"
   ]
  },
  {
   "cell_type": "markdown",
   "id": "8927f346",
   "metadata": {},
   "source": [
    "17) equal"
   ]
  },
  {
   "cell_type": "code",
   "execution_count": 24,
   "id": "33f5f5c3",
   "metadata": {},
   "outputs": [
    {
     "data": {
      "text/plain": [
       "array([False, False, False, False, False])"
      ]
     },
     "execution_count": 24,
     "metadata": {},
     "output_type": "execute_result"
    }
   ],
   "source": [
    "np.equal(j,k)"
   ]
  },
  {
   "cell_type": "markdown",
   "id": "a744a5e6",
   "metadata": {},
   "source": [
    "18) gate function"
   ]
  },
  {
   "cell_type": "code",
   "execution_count": 25,
   "id": "e8eb7d29",
   "metadata": {},
   "outputs": [
    {
     "data": {
      "text/plain": [
       "array([ True,  True,  True,  True, False])"
      ]
     },
     "execution_count": 25,
     "metadata": {},
     "output_type": "execute_result"
    }
   ],
   "source": [
    "np.logical_and(j,k)"
   ]
  },
  {
   "cell_type": "code",
   "execution_count": 26,
   "id": "5ed043e3",
   "metadata": {},
   "outputs": [
    {
     "data": {
      "text/plain": [
       "array([ True,  True,  True,  True,  True])"
      ]
     },
     "execution_count": 26,
     "metadata": {},
     "output_type": "execute_result"
    }
   ],
   "source": [
    "np.logical_or(j,k)"
   ]
  },
  {
   "cell_type": "code",
   "execution_count": 27,
   "id": "0970ae52",
   "metadata": {},
   "outputs": [
    {
     "data": {
      "text/plain": [
       "array([False, False, False, False,  True])"
      ]
     },
     "execution_count": 27,
     "metadata": {},
     "output_type": "execute_result"
    }
   ],
   "source": [
    "np.logical_xor(j,k)"
   ]
  },
  {
   "cell_type": "markdown",
   "id": "b2b46632",
   "metadata": {},
   "source": [
    "19) maximum/minimum"
   ]
  },
  {
   "cell_type": "code",
   "execution_count": 28,
   "id": "43a49dfb",
   "metadata": {},
   "outputs": [
    {
     "data": {
      "text/plain": [
       "array([4, 5, 2, 4, 0])"
      ]
     },
     "execution_count": 28,
     "metadata": {},
     "output_type": "execute_result"
    }
   ],
   "source": [
    "np.maximum(j,k)"
   ]
  },
  {
   "cell_type": "code",
   "execution_count": 29,
   "id": "36859fb9",
   "metadata": {},
   "outputs": [
    {
     "data": {
      "text/plain": [
       "array([ 3,  2, -1, -5, -2])"
      ]
     },
     "execution_count": 29,
     "metadata": {},
     "output_type": "execute_result"
    }
   ],
   "source": [
    "np.minimum(j,k)"
   ]
  },
  {
   "cell_type": "markdown",
   "id": "c0ef99a2",
   "metadata": {},
   "source": [
    "20) copy sign"
   ]
  },
  {
   "cell_type": "code",
   "execution_count": 30,
   "id": "462e4cb4",
   "metadata": {},
   "outputs": [
    {
     "data": {
      "text/plain": [
       "array([ 4.,  5., -2.,  5.,  2.])"
      ]
     },
     "execution_count": 30,
     "metadata": {},
     "output_type": "execute_result"
    }
   ],
   "source": [
    "np.copysign(j,k)"
   ]
  },
  {
   "cell_type": "code",
   "execution_count": null,
   "id": "4bbc4050",
   "metadata": {},
   "outputs": [],
   "source": []
  },
  {
   "cell_type": "code",
   "execution_count": null,
   "id": "dee3d7b0",
   "metadata": {},
   "outputs": [],
   "source": []
  }
 ],
 "metadata": {
  "kernelspec": {
   "display_name": "Python 3 (ipykernel)",
   "language": "python",
   "name": "python3"
  },
  "language_info": {
   "codemirror_mode": {
    "name": "ipython",
    "version": 3
   },
   "file_extension": ".py",
   "mimetype": "text/x-python",
   "name": "python",
   "nbconvert_exporter": "python",
   "pygments_lexer": "ipython3",
   "version": "3.9.13"
  }
 },
 "nbformat": 4,
 "nbformat_minor": 5
}
